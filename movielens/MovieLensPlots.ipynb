{
 "cells": [
  {
   "cell_type": "markdown",
   "metadata": {},
   "source": [
    "# Playing with the MovieLens dataset\n",
    "\n",
    "To do this thing, first download the MovieLens 100K dataset here: http://grouplens.org/datasets/movielens/\n",
    "Then, in the directory where you will store this `.ipynb` file, create a subdirectory `data` in which you will extract the file `ml-100k.zip`."
   ]
  },
  {
   "cell_type": "markdown",
   "metadata": {},
   "source": [
    "## Import some stuff"
   ]
  },
  {
   "cell_type": "code",
   "execution_count": 88,
   "metadata": {
    "collapsed": true
   },
   "outputs": [],
   "source": [
    "import sys\n",
    "import numpy as np\n",
    "import matplotlib.pyplot as plt"
   ]
  },
  {
   "cell_type": "code",
   "execution_count": 89,
   "metadata": {
    "collapsed": true
   },
   "outputs": [],
   "source": [
    "f = open('data/ml-100k/u.data', encoding=\"latin-1\")"
   ]
  },
  {
   "cell_type": "markdown",
   "metadata": {},
   "source": [
    "## The data format\n",
    "\n",
    "`u.data` has four fields: (1) user (2) item (3) rating (4) timestamp\n",
    "\n",
    "What we'd like to do is first of all make some plots. A first plot we could do is the distribution of different ratings. To do that, we only need the rating field. Let's not keep too much in memory here, so that we could also work with bigger data sets if we wanted to. To create the first plot, we can walk through the file one by one, and create a dictionary of the values that `rating` takes as its keys, and the number of times a particular rating has been given as values. "
   ]
  },
  {
   "cell_type": "code",
   "execution_count": 90,
   "metadata": {
    "collapsed": true
   },
   "outputs": [],
   "source": [
    "rating_counts = {}"
   ]
  },
  {
   "cell_type": "code",
   "execution_count": 91,
   "metadata": {
    "collapsed": false
   },
   "outputs": [],
   "source": [
    "for l in f:\n",
    "    _, _, rating, _ = l.split('\\t')\n",
    "    rating = int(rating)\n",
    "    if rating in rating_counts:\n",
    "        rating_counts[rating] += 1\n",
    "    else:\n",
    "        rating_counts[rating] = 1\n",
    "            "
   ]
  },
  {
   "cell_type": "markdown",
   "metadata": {},
   "source": [
    "Now that we have walked through all the lines in the file, let's close it."
   ]
  },
  {
   "cell_type": "code",
   "execution_count": 92,
   "metadata": {
    "collapsed": true
   },
   "outputs": [],
   "source": [
    "f.close()"
   ]
  },
  {
   "cell_type": "code",
   "execution_count": 93,
   "metadata": {
    "collapsed": false
   },
   "outputs": [],
   "source": [
    "ratings, counts = zip(*sorted(rating_counts.items()))"
   ]
  },
  {
   "cell_type": "code",
   "execution_count": 94,
   "metadata": {
    "collapsed": false
   },
   "outputs": [
    {
     "data": {
      "text/plain": [
       "((1, 2, 3, 4, 5), (6110, 11370, 27145, 34174, 21201))"
      ]
     },
     "execution_count": 94,
     "metadata": {},
     "output_type": "execute_result"
    }
   ],
   "source": [
    "ratings, counts"
   ]
  },
  {
   "cell_type": "markdown",
   "metadata": {},
   "source": [
    "## Doing a plot"
   ]
  },
  {
   "cell_type": "code",
   "execution_count": 95,
   "metadata": {
    "collapsed": true
   },
   "outputs": [],
   "source": [
    "%matplotlib inline"
   ]
  },
  {
   "cell_type": "code",
   "execution_count": 96,
   "metadata": {
    "collapsed": false
   },
   "outputs": [
    {
     "data": {
      "text/plain": [
       "[<matplotlib.lines.Line2D at 0x109d98940>]"
      ]
     },
     "execution_count": 96,
     "metadata": {},
     "output_type": "execute_result"
    },
    {
     "data": {
      "image/png": "[encoded data removed]",
      "text/plain": [
       "<matplotlib.figure.Figure at 0x109558240>"
      ]
     },
     "metadata": {},
     "output_type": "display_data"
    }
   ],
   "source": [
    "plt.figure(figsize=(15, 10))\n",
    "plt.plot(ratings, counts, 'ro')"
   ]
  },
  {
   "cell_type": "markdown",
   "metadata": {},
   "source": [
    "So, the plot above does not yet look very pretty, but we can see already that people tend to be positive about movies, with the most common rating in this sample dataset being four stars."
   ]
  },
  {
   "cell_type": "markdown",
   "metadata": {
    "collapsed": true
   },
   "source": [
    "## A little jump: recommendation\n",
    "\n",
    "Suppose we want to do some recommendation. The simplest one is just to retrieve a list of popular movies. The simplest algorithm there is to just count how many ratings a movie received, irrespective of the rating itself. For this, we aggregate over all the movies, it's very similar to what we did above\n",
    "\n",
    "### Recommendation based on popularity\n",
    "\n",
    "\n",
    "\n",
    "\n",
    "\n",
    "\n"
   ]
  },
  {
   "cell_type": "code",
   "execution_count": 97,
   "metadata": {
    "collapsed": true
   },
   "outputs": [],
   "source": [
    "path_100k = 'data/ml-100k/u.data'\n",
    "f = open(path_100k)"
   ]
  },
  {
   "cell_type": "code",
   "execution_count": 98,
   "metadata": {
    "collapsed": true
   },
   "outputs": [],
   "source": [
    "movie2nr_ratings = {}"
   ]
  },
  {
   "cell_type": "code",
   "execution_count": 99,
   "metadata": {
    "collapsed": false
   },
   "outputs": [],
   "source": [
    "for l in f:\n",
    "    _, item, _, _ = l.split('\\t')\n",
    "    item = int(item)\n",
    "    if item in movie2nr_ratings:\n",
    "        movie2nr_ratings[item] += 1\n",
    "    else:\n",
    "        movie2nr_ratings[item] = 1\n"
   ]
  },
  {
   "cell_type": "code",
   "execution_count": 100,
   "metadata": {
    "collapsed": false
   },
   "outputs": [],
   "source": [
    "top_10 = sorted(movie2nr_ratings.items(), key=lambda x: x[1], reverse=True)[:10]"
   ]
  },
  {
   "cell_type": "code",
   "execution_count": 101,
   "metadata": {
    "collapsed": false
   },
   "outputs": [
    {
     "name": "stdout",
     "output_type": "stream",
     "text": [
      "[(50, 583), (258, 509), (100, 508), (181, 507), (294, 485), (286, 481), (288, 478), (1, 452), (300, 431), (121, 429)]\n"
     ]
    }
   ],
   "source": [
    "print(top_10)"
   ]
  },
  {
   "cell_type": "markdown",
   "metadata": {},
   "source": [
    "Now let's get the title for these top movies"
   ]
  },
  {
   "cell_type": "code",
   "execution_count": 102,
   "metadata": {
    "collapsed": true
   },
   "outputs": [],
   "source": [
    "f.close()\n",
    "path_movie_info = 'data/ml-100k/u.item'\n",
    "f = open(path_movie_info, encoding=\"latin-1\")"
   ]
  },
  {
   "cell_type": "code",
   "execution_count": 103,
   "metadata": {
    "collapsed": false
   },
   "outputs": [],
   "source": [
    "movie_id2title = {}\n",
    "for l in f:\n",
    "    fields = l.split('|')\n",
    "    movie_id = int(fields[0])\n",
    "    title = fields[1]\n",
    "    if movie_id in movie_id2title:\n",
    "        print('Oops: duplicate movie_id')\n",
    "    else:\n",
    "        movie_id2title[movie_id] = title\n",
    "f.close()"
   ]
  },
  {
   "cell_type": "code",
   "execution_count": 104,
   "metadata": {
    "collapsed": false
   },
   "outputs": [
    {
     "name": "stdout",
     "output_type": "stream",
     "text": [
      "Star Wars (1977)\n",
      "Contact (1997)\n",
      "Fargo (1996)\n",
      "Return of the Jedi (1983)\n",
      "Liar Liar (1997)\n",
      "English Patient, The (1996)\n",
      "Scream (1996)\n",
      "Toy Story (1995)\n",
      "Air Force One (1997)\n",
      "Independence Day (ID4) (1996)\n"
     ]
    }
   ],
   "source": [
    "for movie_id, nr_ratings in top_10:\n",
    "    print(movie_id2title[movie_id])"
   ]
  },
  {
   "cell_type": "markdown",
   "metadata": {},
   "source": [
    "So those are the top 10 most popular movie titles. Now let's go a step further and calculate similarities between movies. Then, given a movie, we will return a list of most similar movies."
   ]
  },
  {
   "cell_type": "markdown",
   "metadata": {},
   "source": [
    "### Recommendation based on similarity"
   ]
  },
  {
   "cell_type": "markdown",
   "metadata": {},
   "source": [
    "So what we aim to do here is say: given a movie that you liked, what are similar movies? To compute similarity, we could look at many things: genre, box office revenue, actors that play in it, year that it came out and so on. But in this case, we'll stick to the user ratings: which other movies were similarly rated by all users? So intuitively, if the same users rated (viewed) a movie, the movie is similar. Note that we again do not use the actual ratings themselves yet, we merely use the information that a user viewed a movie, irrespective of the rating. To do this simplest similarity based approach, we need for each movie a list of users who rated the movie. This could become a rather big data structure. If everybody rated every movie, it could be as big as the number of movies in our dataset times the number of users in our data set. Fortunately, probably the data is sparse: each user will only have rated a limited number of movies: at least twenty, but certainly not everything."
   ]
  },
  {
   "cell_type": "code",
   "execution_count": 105,
   "metadata": {
    "collapsed": true
   },
   "outputs": [],
   "source": [
    "movie_id2user_ids = {}"
   ]
  },
  {
   "cell_type": "code",
   "execution_count": 106,
   "metadata": {
    "collapsed": false
   },
   "outputs": [],
   "source": [
    "with open(path_100k, encoding=\"latin-1\") as f:\n",
    "    for l in f:\n",
    "        user_id, movie_id, _, _ = l.split('\\t')\n",
    "        user_id = int(user_id)\n",
    "        movie_id = int(movie_id)\n",
    "        if movie_id in movie_id2user_ids:\n",
    "            movie_id2user_ids[movie_id].add(user_id)\n",
    "        else:\n",
    "            movie_id2user_ids[movie_id] = set([user_id])\n",
    "    "
   ]
  },
  {
   "cell_type": "code",
   "execution_count": 107,
   "metadata": {
    "collapsed": false
   },
   "outputs": [
    {
     "name": "stdout",
     "output_type": "stream",
     "text": [
      "1682\n"
     ]
    }
   ],
   "source": [
    "print(len(movie_id2user_ids.keys()))"
   ]
  },
  {
   "cell_type": "markdown",
   "metadata": {},
   "source": [
    "Ah, just checking. In the 100K movielens dataset there is data about 1682 movies. Now, if we were to create a similarity matrix of movies, then it would contain"
   ]
  },
  {
   "cell_type": "code",
   "execution_count": 108,
   "metadata": {
    "collapsed": false
   },
   "outputs": [
    {
     "data": {
      "text/plain": [
       "2829124"
      ]
     },
     "execution_count": 108,
     "metadata": {},
     "output_type": "execute_result"
    }
   ],
   "source": [
    "1682**2"
   ]
  },
  {
   "cell_type": "markdown",
   "metadata": {},
   "source": [
    "floating point values; that's close to three million. Now if we were to use the full MovieLens dataset, which has 30000 movies, then we would be looking at 900000000, that's close to a billion floating point values. If one floating point value needs 64bits, which is 8 bytes, already we would be using about this amount of memory (in G):"
   ]
  },
  {
   "cell_type": "code",
   "execution_count": 109,
   "metadata": {
    "collapsed": false
   },
   "outputs": [
    {
     "data": {
      "text/plain": [
       "6.705522537231445"
      ]
     },
     "execution_count": 109,
     "metadata": {},
     "output_type": "execute_result"
    }
   ],
   "source": [
    "9 * 10**8 * 8 / 2 ** 30.0"
   ]
  },
  {
   "cell_type": "markdown",
   "metadata": {},
   "source": [
    "That's close to 7GB. Now that would not comfortably fit anymore. So let's go for a different approach: let's, for a given movie, walk through all movies, compute similarity, and then sort that list. You could call this *online* computation of similarity. But how will we compute similarity between two movies exactly? There are many ways, look, e.g., at this web page for some example similarities: http://www.mickaellegal.com/blog/2014/1/30/how-to-build-a-recommender \n",
    "\n",
    "In our situation, we have sparse representations of user ratings. One similarity which is easy to compute on such representations is Jaccard similarity. It is defined as the number of items that are in *both* sets (the intersection of the two sets) divided by the number of items that are in either one of the sets (the union of the two sets). Let's create a function for Jaccard similarity."
   ]
  },
  {
   "cell_type": "code",
   "execution_count": 110,
   "metadata": {
    "collapsed": true
   },
   "outputs": [],
   "source": [
    "def jaccard(a, b):\n",
    "    return len(a & b) / float(len(a | b))"
   ]
  },
  {
   "cell_type": "code",
   "execution_count": 111,
   "metadata": {
    "collapsed": false
   },
   "outputs": [
    {
     "name": "stdout",
     "output_type": "stream",
     "text": [
      "0.5\n"
     ]
    }
   ],
   "source": [
    "print(jaccard(set([1, 2, 3]), set([2, 3, 4])))"
   ]
  },
  {
   "cell_type": "markdown",
   "metadata": {},
   "source": [
    "Remember that movie_id 50 was Star Wars (1977), the most popular movie? Let's see which movies are most similar to it."
   ]
  },
  {
   "cell_type": "code",
   "execution_count": 112,
   "metadata": {
    "collapsed": false
   },
   "outputs": [],
   "source": [
    "my_movie_ratings = movie_id2user_ids[50]"
   ]
  },
  {
   "cell_type": "code",
   "execution_count": 118,
   "metadata": {
    "collapsed": false
   },
   "outputs": [],
   "source": [
    "my_movie_similarities = sorted([(movie_id, jaccard(my_movie_ratings, movie_ratings)) \\\n",
    "                         for movie_id, movie_ratings in movie_id2user_ids.items()], \n",
    "                               key=lambda x: x[1], reverse=True)[:10]"
   ]
  },
  {
   "cell_type": "code",
   "execution_count": 119,
   "metadata": {
    "collapsed": false
   },
   "outputs": [
    {
     "name": "stdout",
     "output_type": "stream",
     "text": [
      "Star Wars (1977) (similarity: 1.000000)\n",
      "Return of the Jedi (1983) (similarity: 0.786885)\n",
      "Raiders of the Lost Ark (1981) (similarity: 0.609952)\n",
      "Toy Story (1995) (similarity: 0.582569)\n",
      "Empire Strikes Back, The (1980) (similarity: 0.570248)\n",
      "Fargo (1996) (similarity: 0.565280)\n",
      "Godfather, The (1972) (similarity: 0.558685)\n",
      "Independence Day (ID4) (1996) (similarity: 0.556923)\n",
      "Silence of the Lambs, The (1991) (similarity: 0.525078)\n",
      "Pulp Fiction (1994) (similarity: 0.510046)\n"
     ]
    }
   ],
   "source": [
    "for movie_id, similarity in my_movie_similarities:\n",
    "    print('%s (similarity: %.6f)' % (movie_id2title[movie_id], similarity))"
   ]
  },
  {
   "cell_type": "markdown",
   "metadata": {},
   "source": [
    "The results are not counterintuitive. It makes sense that people who viewed Star Wars (1977) also largely viewed Return of the Jedi (1983)."
   ]
  },
  {
   "cell_type": "markdown",
   "metadata": {},
   "source": [
    "What if I would like a list of recommendations based on all movies that I watched so far? A very straightforward way of going about this is to compute for all movies the *average* similarity to all the movies that I watched."
   ]
  },
  {
   "cell_type": "markdown",
   "metadata": {},
   "source": [
    "But we can also look into methods which are a bit more advanced. Suppose there are only two movies. Then we can plot two axes: one with the rating for movie A, and one with the rating for movie B. A point on this graph anywhere would give my ratings for both movies. We can do this for all users. And if we have three movies, we can make a plot like this with three axes. And if we have 30000 movies, we can still imagine a plot like this, with 30000 axes. But let's start with two dimensions to explain, e"
   ]
  }
 ],
 "metadata": {
  "kernelspec": {
   "display_name": "Python 3",
   "language": "python",
   "name": "python3"
  },
  "language_info": {
   "codemirror_mode": {
    "name": "ipython",
    "version": 3
   },
   "file_extension": ".py",
   "mimetype": "text/x-python",
   "name": "python",
   "nbconvert_exporter": "python",
   "pygments_lexer": "ipython3",
   "version": "3.4.3"
  }
 },
 "nbformat": 4,
 "nbformat_minor": 0
}
